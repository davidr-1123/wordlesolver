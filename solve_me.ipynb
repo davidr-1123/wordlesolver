{
 "cells": [
  {
   "cell_type": "code",
   "execution_count": 1,
   "id": "56f90ee0",
   "metadata": {},
   "outputs": [],
   "source": [
    "# valid_guesses.txt downloaded from https://gist.github.com/cfreshman/d5fb56316158a1575898bba1eed3b5da\n",
    "# valid_targets.txt downloaded from https://gist.github.com/cfreshman/a7b776506c73284511034e63af1017ee"
   ]
  },
  {
   "cell_type": "code",
   "execution_count": 2,
   "id": "d85f1919",
   "metadata": {},
   "outputs": [],
   "source": [
    "# import packages"
   ]
  },
  {
   "cell_type": "code",
   "execution_count": 3,
   "id": "0956e520",
   "metadata": {},
   "outputs": [],
   "source": [
    "# create a set of valid answers\n",
    "\n",
    "f = open(\"valid_targets.txt\", \"r\")\n",
    "valid_targets = set(f.read().split())\n",
    "f.close()"
   ]
  },
  {
   "cell_type": "code",
   "execution_count": 4,
   "id": "882ef143",
   "metadata": {},
   "outputs": [],
   "source": [
    "# create a set of valid guesses (not including answers)\n",
    "\n",
    "f = open(\"valid_guesses.txt\", \"r\")\n",
    "valid_guesses = set((f.read().split()))\n",
    "f.close()"
   ]
  },
  {
   "cell_type": "code",
   "execution_count": 5,
   "id": "e97dde57",
   "metadata": {},
   "outputs": [],
   "source": [
    "# create a set of all valid wordle words\n",
    "\n",
    "valid_words = set()\n",
    "for word in valid_targets:\n",
    "    valid_words.add(word)\n",
    "for word in valid_guesses:\n",
    "    valid_words.add(word)"
   ]
  },
  {
   "cell_type": "code",
   "execution_count": 6,
   "id": "1901177a",
   "metadata": {},
   "outputs": [],
   "source": [
    "# code a way to evaluate guesses in the wordle way (green, yellow, gray) --DONE\n",
    "\n",
    "# find out how many potential outcomes there are per guess\n",
    "# for every word, calculate how many words each outcome would narrow the guess down to\n",
    "# scale based on the likelihood of each outcome"
   ]
  },
  {
   "cell_type": "code",
   "execution_count": 7,
   "id": "e437ca0d",
   "metadata": {},
   "outputs": [],
   "source": [
    "# game logic\n",
    "\n",
    "# score = [x, x, x, x, x] - represents whether each letter in the guess is either \"green\", \"yellow\", or \"gray\", where\n",
    "# x can be one of: 2 = \"green\", 1 = \"yellow\", or 0 = \"gray\". \n",
    "\n",
    "def check_score(word, valid_targets):\n",
    "    scores = []\n",
    "    for t in valid_targets:\n",
    "#     set blank score state\n",
    "        score = [0, 0, 0, 0, 0]\n",
    "    \n",
    "#     target word\n",
    "        target = list(t)\n",
    "    \n",
    "#     this makes sure words with two of the same letter get handled properly\n",
    "        check = list(t)\n",
    "\n",
    "        for i, c in enumerate(word):\n",
    "            if c in check:\n",
    "                if c in target:\n",
    "                    if word[i] == target[i]:\n",
    "                        score[i] = 2\n",
    "                        \n",
    "#                         this makes sure words with two of the same letter get handled properly\n",
    "                        check.remove(word[i])\n",
    "                    else:\n",
    "                        score[i] = 1\n",
    "                \n",
    "#                         this makes sure words with two of the same letter get handled properly\n",
    "                        check.remove(word[i])\n",
    "                else:\n",
    "                    score[i] = 0\n",
    "            else:\n",
    "                score[i] = 0\n",
    "                \n",
    "        scores.append(score)\n",
    "        \n",
    "    return scores"
   ]
  },
  {
   "cell_type": "code",
   "execution_count": 8,
   "id": "c1e7592d",
   "metadata": {},
   "outputs": [],
   "source": [
    "# read the game state\n",
    "\n",
    "def read_state(w, scores):\n",
    "    word = list(w)\n",
    "    states = list()\n",
    "    for score in scores:\n",
    "        instance = []\n",
    "        for i, c in enumerate(word):\n",
    "            if score[i] == 0:\n",
    "                instance.append({'letter':word[i], 'state':'gray'})\n",
    "            elif score[i] == 1:\n",
    "                instance.append({'letter':word[i], 'state':'yellow'})\n",
    "            elif score[i] == 2:\n",
    "                instance.append({'letter':word[i], 'state':'green'})\n",
    "        states.append(instance)\n",
    "    return states"
   ]
  },
  {
   "cell_type": "code",
   "execution_count": 9,
   "id": "5b78af7f",
   "metadata": {},
   "outputs": [],
   "source": [
    "# filter the targets based on a given state"
   ]
  }
 ],
 "metadata": {
  "kernelspec": {
   "display_name": "Python 3 (ipykernel)",
   "language": "python",
   "name": "python3"
  },
  "language_info": {
   "codemirror_mode": {
    "name": "ipython",
    "version": 3
   },
   "file_extension": ".py",
   "mimetype": "text/x-python",
   "name": "python",
   "nbconvert_exporter": "python",
   "pygments_lexer": "ipython3",
   "version": "3.9.12"
  }
 },
 "nbformat": 4,
 "nbformat_minor": 5
}
